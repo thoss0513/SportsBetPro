{
 "cells": [
  {
   "cell_type": "code",
   "execution_count": null,
   "metadata": {
    "cell_id": "70a99bbdeb8d487b928435578a1d3dfa",
    "deepnote_cell_type": "code",
    "deepnote_to_be_reexecuted": false,
    "execution_millis": 61,
    "execution_start": 1712948987684,
    "source_hash": null
   },
   "outputs": [],
   "source": [
    "import numpy as np\n",
    "import pandas as pd\n",
    "import matplotlib.pyplot as plt\n",
    "import matplotlib\n",
    "%matplotlib inline\n",
    "import seaborn as sns\n",
    "import tensorflow as tf\n",
    "import sklearn \n",
    "from sklearn.model_selection import train_test_split\n",
    "from sklearn.model_selection import GridSearchCV\n",
    "from tensorflow import keras\n",
    "from keras import metrics\n",
    "from tensorflow.keras.models import Sequential\n",
    "from tensorflow.keras.layers import LSTM, Dense, Dropout, GRU, BatchNormalization\n",
    "from sklearn.preprocessing import StandardScaler, OneHotEncoder, MinMaxScaler\n",
    "from tensorflow.keras.utils import to_categorical\n",
    "from tensorflow.keras.regularizers import l2\n",
    "from tensorflow.keras.optimizers import Adam\n",
    "from sklearn.metrics import f1_score, precision_score, recall_score\n",
    "\n",
    "go_back = '../data/'\n",
    "go_back + "
   ]
  },
  {
   "cell_type": "code",
   "execution_count": null,
   "metadata": {
    "cell_id": "ae3c0d5b42b141b19bd4ede3c34e961a",
    "deepnote_cell_type": "code",
    "deepnote_to_be_reexecuted": false,
    "execution_millis": 181,
    "execution_start": 1712949170984,
    "source_hash": null
   },
   "outputs": [],
   "source": [
    "print(\"Pandas version: \", pd.__version__)\n",
    "print(\"Numpy version: \", np.__version__)\n",
    "print(\"Matplotlib version: \", matplotlib.__version__)\n",
    "print(\"Seaborn version: \", sns.__version__)\n",
    "print(\"Tensorflow version: \", tf.__version__)\n",
    "print(\"Scikit-learn version: \", sklearn.__version__)\n",
    "print(\"Keras version: \", keras.__version__)"
   ]
  },
  {
   "cell_type": "markdown",
   "metadata": {
    "cell_id": "ab3f42333682481e86520ba994e5a4a4",
    "deepnote_cell_type": "text-cell-h1",
    "formattedRanges": []
   },
   "source": [
    "# Loading in Data"
   ]
  },
  {
   "cell_type": "code",
   "execution_count": null,
   "metadata": {
    "cell_id": "b60286cc8eb84b519f6969aa82baf166",
    "deepnote_cell_type": "code",
    "deepnote_to_be_reexecuted": false,
    "execution_millis": 1874,
    "execution_start": 1712947174043,
    "source_hash": null
   },
   "outputs": [],
   "source": [
    "df = pd.read_csv(go_back + 'all_data_train.csv')\n",
    "df = df.drop(['Unnamed: 0'], axis = 1)\n",
    "df"
   ]
  },
  {
   "cell_type": "markdown",
   "metadata": {
    "cell_id": "ec498f61bd194787a8c1ddd14fd75e33",
    "deepnote_cell_type": "text-cell-h1",
    "formattedRanges": []
   },
   "source": [
    "# Feature Selection"
   ]
  },
  {
   "cell_type": "code",
   "execution_count": null,
   "metadata": {
    "cell_id": "408d514fceba4c74b8009530087da730",
    "deepnote_cell_type": "code",
    "deepnote_to_be_reexecuted": false,
    "execution_millis": 109,
    "execution_start": 1712947175928,
    "source_hash": null
   },
   "outputs": [],
   "source": [
    "X = df.drop(['team', 'opponent', 'outcome', 'date',\n",
    "            'score', 'opponentScore', 'total', 'secondHalfTotal'], axis = 1)\n",
    "Y = df['outcome']\n",
    "\n",
    "X_train, X_val, y_train, y_val = train_test_split(X, Y, test_size=0.2, random_state=42)"
   ]
  },
  {
   "cell_type": "code",
   "execution_count": null,
   "metadata": {
    "cell_id": "455572ca699c4b2f8e6cb15e53c5f0c3",
    "deepnote_cell_type": "code",
    "deepnote_to_be_reexecuted": false,
    "execution_millis": 284,
    "execution_start": 1712947175949,
    "source_hash": null
   },
   "outputs": [],
   "source": [
    "test = pd.read_csv('all_data_test.csv')\n",
    "X_test = test.drop(['Unnamed: 0', 'team', 'opponent', 'outcome', 'date',\n",
    "            'score', 'opponentScore', 'total', 'secondHalfTotal'], axis = 1)\n",
    "y_test = test['outcome']"
   ]
  },
  {
   "cell_type": "markdown",
   "metadata": {
    "cell_id": "0ba27ae17ef64e5681294a524cfa7421",
    "deepnote_cell_type": "text-cell-p",
    "formattedRanges": []
   },
   "source": [
    "From prior analysis, reducing the number of features does not improve performance and actually reduces our expected profits."
   ]
  },
  {
   "cell_type": "code",
   "execution_count": null,
   "metadata": {
    "cell_id": "de9c788003884607a8f4979259c0931f",
    "deepnote_cell_type": "code",
    "deepnote_to_be_reexecuted": false,
    "execution_millis": 1786,
    "execution_start": 1712947176246,
    "source_hash": null
   },
   "outputs": [],
   "source": [
    "from sklearn.preprocessing import StandardScaler\n",
    "from sklearn.decomposition import PCA\n",
    "\n",
    "standardized_x = StandardScaler().fit_transform(X)\n",
    "pca = PCA(n_components=2)\n",
    "principalComponents = pca.fit_transform(standardized_x)\n",
    "principalDf = pd.DataFrame(data = principalComponents\n",
    "             , columns = ['principal component 1', 'principal component 2'])"
   ]
  },
  {
   "cell_type": "code",
   "execution_count": null,
   "metadata": {
    "cell_id": "e999e013691046a09d34ea65bdab6cd4",
    "deepnote_cell_type": "code",
    "deepnote_to_be_reexecuted": false,
    "execution_millis": 2891,
    "execution_start": 1712947178041,
    "source_hash": null
   },
   "outputs": [],
   "source": [
    "principalDf['target'] = Y\n",
    "\n",
    "fig = plt.figure(figsize = (8,8))\n",
    "ax = fig.add_subplot(1,1,1) \n",
    "ax.set_xlabel('Principal Component 1', fontsize = 15)\n",
    "ax.set_ylabel('Principal Component 2', fontsize = 15)\n",
    "ax.set_title('2 component PCA', fontsize = 20)\n",
    "\n",
    "targets = [0, 1]\n",
    "colors = ['r', 'b']\n",
    "for target, color in zip(targets,colors):\n",
    "    indicesToKeep = principalDf['target'] == target\n",
    "    ax.scatter(principalDf.loc[indicesToKeep, 'principal component 1']\n",
    "               , principalDf.loc[indicesToKeep, 'principal component 2']\n",
    "               , c = color\n",
    "               , s = 50)\n",
    "ax.legend(targets)\n",
    "ax.grid()"
   ]
  },
  {
   "cell_type": "markdown",
   "metadata": {
    "cell_id": "95933541af904cdeb6ffb44bcee73fbf",
    "deepnote_app_block_visible": false,
    "deepnote_cell_type": "markdown",
    "deepnote_to_be_reexecuted": false,
    "execution_millis": 94,
    "execution_start": 1712797730058,
    "source_hash": "af2c5019"
   },
   "source": [
    "There is not much separability between the two classes based on principal components alone."
   ]
  },
  {
   "cell_type": "markdown",
   "metadata": {
    "cell_id": "8a15c9b887f847d28547328f18ae1c8f",
    "deepnote_cell_type": "text-cell-h1",
    "formattedRanges": []
   },
   "source": [
    "# Modeling"
   ]
  },
  {
   "cell_type": "code",
   "execution_count": null,
   "metadata": {
    "cell_id": "c664980ec106473fb5ce886424bff24a",
    "deepnote_cell_type": "code",
    "deepnote_to_be_reexecuted": false,
    "execution_millis": 4070,
    "execution_start": 1712947180951,
    "source_hash": null
   },
   "outputs": [],
   "source": [
    "from sklearn.linear_model import LogisticRegression\n",
    "lr_model = LogisticRegression(fit_intercept= True)\n",
    "lr_model.fit(X_train, y_train)\n",
    "lr_train_preds = lr_model.predict(X_train)\n",
    "lr_val_preds = lr_model.predict(X_val)\n",
    "\n",
    "train_accuracy = np.mean(lr_train_preds == y_train)\n",
    "val_accuracy = np.mean(lr_val_preds == y_val)\n",
    "print(train_accuracy)\n",
    "print(val_accuracy)\n",
    "\n",
    "lr_test_preds = lr_model.predict(X_test)\n",
    "test_accuracy = np.mean(lr_test_preds == y_test)\n",
    "print(test_accuracy)"
   ]
  },
  {
   "cell_type": "code",
   "execution_count": null,
   "metadata": {
    "cell_id": "0c252f87ce1b494ba3e12386b99b6762",
    "deepnote_cell_type": "code",
    "deepnote_to_be_reexecuted": false,
    "execution_millis": 200,
    "execution_start": 1712947185024,
    "source_hash": null
   },
   "outputs": [],
   "source": [
    "from sklearn.metrics import confusion_matrix, ConfusionMatrixDisplay\n",
    "cm = confusion_matrix(lr_test_preds, y_test)\n",
    "disp = ConfusionMatrixDisplay(confusion_matrix=cm, display_labels=lr_model.classes_)\n",
    "disp.plot()"
   ]
  },
  {
   "cell_type": "code",
   "execution_count": null,
   "metadata": {
    "cell_id": "197250cc53194eb8b5481e66e8d23bb5",
    "deepnote_cell_type": "code",
    "deepnote_to_be_reexecuted": false,
    "execution_millis": 240,
    "execution_start": 1712947186124,
    "source_hash": null
   },
   "outputs": [],
   "source": [
    "print(f1_score(y_train, lr_train_preds))\n",
    "print(f1_score(y_val, lr_val_preds))\n",
    "print(f1_score(y_test, lr_test_preds))\n",
    "print(precision_score(y_test, lr_test_preds))\n",
    "print(recall_score(y_test, lr_test_preds))"
   ]
  },
  {
   "cell_type": "code",
   "execution_count": null,
   "metadata": {
    "cell_id": "8437fd74a87644df87dc2461023b90c3",
    "deepnote_cell_type": "code",
    "deepnote_to_be_reexecuted": false,
    "execution_millis": 192,
    "execution_start": 1712947186228,
    "source_hash": null
   },
   "outputs": [],
   "source": [
    "from sklearn.naive_bayes import GaussianNB\n",
    "gnb = GaussianNB()\n",
    "y_pred = gnb.fit(X_train, y_train)\n",
    "train_preds = y_pred.predict(X_train)\n",
    "val_preds = y_pred.predict(X_val)\n",
    "train_accuracy = np.mean(train_preds == y_train)\n",
    "val_accuracy = np.mean(val_preds == y_val)\n",
    "print(train_accuracy)\n",
    "print(val_accuracy)\n",
    "\n",
    "gnb_test_preds = gnb.predict(X_test)\n",
    "test_accuracy = np.mean(gnb_test_preds == y_test)\n",
    "print(test_accuracy)"
   ]
  },
  {
   "cell_type": "code",
   "execution_count": null,
   "metadata": {
    "cell_id": "90ae8c7857da4feaa1b1b99b17f847c3",
    "deepnote_cell_type": "code",
    "deepnote_to_be_reexecuted": false,
    "execution_millis": 903,
    "execution_start": 1712947186431,
    "source_hash": null
   },
   "outputs": [],
   "source": [
    "from sklearn.metrics import confusion_matrix, ConfusionMatrixDisplay\n",
    "cm = confusion_matrix(gnb_test_preds, y_test)\n",
    "disp = ConfusionMatrixDisplay(confusion_matrix=cm, display_labels=lr_model.classes_)\n",
    "disp.plot()"
   ]
  },
  {
   "cell_type": "code",
   "execution_count": null,
   "metadata": {
    "cell_id": "12e6569e65d84656b109a43e257401b5",
    "deepnote_cell_type": "code",
    "deepnote_to_be_reexecuted": false,
    "execution_millis": 405,
    "execution_start": 1712947188238,
    "source_hash": null
   },
   "outputs": [],
   "source": [
    "print(f1_score(y_train, train_preds))\n",
    "print(f1_score(y_val, val_preds))\n",
    "print(f1_score(y_test, gnb_test_preds))\n",
    "print(precision_score(y_test, gnb_test_preds))\n",
    "print(recall_score(y_test, gnb_test_preds))"
   ]
  },
  {
   "cell_type": "code",
   "execution_count": null,
   "metadata": {
    "cell_id": "9a65333487624af9b434930d6ec65b59",
    "deepnote_cell_type": "code",
    "deepnote_to_be_reexecuted": false,
    "execution_millis": 30118,
    "execution_start": 1712947188351,
    "source_hash": null
   },
   "outputs": [],
   "source": [
    "from sklearn.ensemble import RandomForestClassifier\n",
    "rf_model = RandomForestClassifier(n_estimators = 100,\n",
    "                                max_depth = 10,\n",
    "                                min_samples_leaf = 5,\n",
    "                                random_state = 42)\n",
    "rf_model.fit(X_train, y_train)\n",
    "\n",
    "rf_train_preds = rf_model.predict(X_train)\n",
    "rf_val_preds = rf_model.predict(X_val)\n",
    "\n",
    "rf_train_accuracy = np.mean(rf_train_preds == y_train)\n",
    "rf_val_accuracy = np.mean(rf_val_preds == y_val)\n",
    "print(rf_train_accuracy)\n",
    "print(rf_val_accuracy)\n",
    "\n",
    "rf_test_preds = rf_model.predict(X_test)\n",
    "test_accuracy = np.mean(rf_test_preds == y_test)\n",
    "print(test_accuracy)"
   ]
  },
  {
   "cell_type": "code",
   "execution_count": null,
   "metadata": {
    "cell_id": "0d0a4093877f4a70a906675401481232",
    "deepnote_cell_type": "code",
    "deepnote_to_be_reexecuted": false,
    "execution_millis": 411,
    "execution_start": 1712947218471,
    "source_hash": null
   },
   "outputs": [],
   "source": [
    "cm = confusion_matrix(rf_test_preds, y_test)\n",
    "disp = ConfusionMatrixDisplay(confusion_matrix=cm, display_labels=lr_model.classes_)\n",
    "disp.plot()"
   ]
  },
  {
   "cell_type": "code",
   "execution_count": null,
   "metadata": {
    "cell_id": "2613cc72dc3644e8bd6220ed897a75f2",
    "deepnote_cell_type": "code",
    "deepnote_to_be_reexecuted": false,
    "execution_millis": 314,
    "execution_start": 1712947219739,
    "source_hash": null
   },
   "outputs": [],
   "source": [
    "print(f1_score(y_train, rf_train_preds))\n",
    "print(f1_score(y_val, rf_val_preds))\n",
    "print(f1_score(y_test, rf_test_preds))\n",
    "print(precision_score(y_test, rf_test_preds))\n",
    "print(recall_score(y_test, rf_test_preds))"
   ]
  },
  {
   "cell_type": "code",
   "execution_count": null,
   "metadata": {
    "cell_id": "156f0a76db3d4661a75bb97b510cdc0d",
    "deepnote_cell_type": "code",
    "deepnote_to_be_reexecuted": false,
    "execution_millis": 217353,
    "execution_start": 1712947219920,
    "source_hash": null
   },
   "outputs": [],
   "source": [
    "from sklearn import svm\n",
    "svm_model = svm.SVC()\n",
    "svm_model.fit(X_train, y_train)\n",
    "\n",
    "svm_train_preds = svm_model.predict(X_train)\n",
    "svm_val_preds = svm_model.predict(X_val)\n",
    "\n",
    "svm_train_accuracy = np.mean(svm_train_preds == y_train)\n",
    "svm_val_accuracy = np.mean(svm_val_preds == y_val)\n",
    "print(svm_train_accuracy)\n",
    "print(svm_val_accuracy)\n",
    "\n",
    "svm_test_preds = svm_model.predict(X_test)\n",
    "test_accuracy = np.mean(svm_test_preds == y_test)\n",
    "print(test_accuracy)"
   ]
  },
  {
   "cell_type": "code",
   "execution_count": null,
   "metadata": {
    "cell_id": "14eeb731fb45439cbca2f517ba587dec",
    "deepnote_cell_type": "code",
    "deepnote_to_be_reexecuted": false,
    "execution_millis": 196,
    "execution_start": 1712947437334,
    "source_hash": null
   },
   "outputs": [],
   "source": [
    "from sklearn.metrics import confusion_matrix, ConfusionMatrixDisplay\n",
    "cm = confusion_matrix(svm_test_preds, y_test)\n",
    "disp = ConfusionMatrixDisplay(confusion_matrix=cm, display_labels=lr_model.classes_)\n",
    "disp.plot()"
   ]
  },
  {
   "cell_type": "code",
   "execution_count": null,
   "metadata": {
    "cell_id": "78a09b069324467599d1d1c2d3051c67",
    "deepnote_cell_type": "code",
    "deepnote_to_be_reexecuted": false,
    "execution_millis": 285,
    "execution_start": 1712947438523,
    "source_hash": null
   },
   "outputs": [],
   "source": [
    "print(f1_score(y_train, svm_train_preds))\n",
    "print(f1_score(y_val, svm_val_preds))\n",
    "print(f1_score(y_test, svm_test_preds))\n",
    "print(precision_score(y_test, svm_test_preds))\n",
    "print(recall_score(y_test, svm_test_preds))"
   ]
  },
  {
   "cell_type": "code",
   "execution_count": null,
   "metadata": {
    "allow_embed": false,
    "cell_id": "561f9ee9991e4df9a41f01fbe4214a91",
    "deepnote_cell_type": "code",
    "deepnote_to_be_reexecuted": false,
    "execution_millis": 16700,
    "execution_start": 1712947438633,
    "source_hash": null
   },
   "outputs": [],
   "source": [
    "from sklearn.ensemble import AdaBoostClassifier\n",
    "ada_model = AdaBoostClassifier(n_estimators=50, learning_rate=0.6)\n",
    "ada_model.fit(X_train, y_train)\n",
    "\n",
    "ada_train_preds = ada_model.predict(X_train)\n",
    "ada_val_preds = ada_model.predict(X_val)\n",
    "\n",
    "ada_train_accuracy = np.mean(ada_train_preds == y_train)\n",
    "ada_val_accuracy = np.mean(ada_val_preds == y_val)\n",
    "print(ada_train_accuracy)\n",
    "print(ada_val_accuracy)\n",
    "\n",
    "ada_test_preds = ada_model.predict(X_test)\n",
    "test_accuracy = np.mean(ada_test_preds == y_test)\n",
    "print(test_accuracy)"
   ]
  },
  {
   "cell_type": "code",
   "execution_count": null,
   "metadata": {
    "cell_id": "0a0451a2b588419ca781575e86597a1a",
    "deepnote_cell_type": "code",
    "deepnote_to_be_reexecuted": false,
    "execution_millis": 284,
    "execution_start": 1712947455430,
    "source_hash": null
   },
   "outputs": [],
   "source": [
    "cm = confusion_matrix(ada_test_preds, y_test)\n",
    "disp = ConfusionMatrixDisplay(confusion_matrix=cm, display_labels=lr_model.classes_)\n",
    "disp.plot()"
   ]
  },
  {
   "cell_type": "code",
   "execution_count": null,
   "metadata": {
    "cell_id": "3f00e3c9b61d46cb9dc723da91bdbcc9",
    "deepnote_cell_type": "code",
    "deepnote_to_be_reexecuted": false,
    "execution_millis": 232,
    "execution_start": 1712947456827,
    "source_hash": null
   },
   "outputs": [],
   "source": [
    "print(f1_score(y_train, ada_train_preds))\n",
    "print(f1_score(y_val, ada_val_preds))\n",
    "print(f1_score(y_test, ada_test_preds))\n",
    "print(precision_score(y_test, ada_test_preds))\n",
    "print(recall_score(y_test, ada_test_preds))"
   ]
  },
  {
   "cell_type": "code",
   "execution_count": null,
   "metadata": {
    "cell_id": "6bf43ed368a34383a03076be8de535bf",
    "deepnote_cell_type": "code",
    "deepnote_to_be_reexecuted": false,
    "execution_millis": 26102,
    "execution_start": 1712947456920,
    "source_hash": null
   },
   "outputs": [],
   "source": [
    "tf.keras.backend.clear_session()\n",
    "np.random.seed(42)\n",
    "tf.random.set_seed(42)\n",
    "\n",
    "nn_model = keras.Sequential()\n",
    "nn_model.add(keras.layers.Flatten())\n",
    "nn_model.add(keras.layers.Dense(units = 1, use_bias = True, activation = \"sigmoid\"))\n",
    "optimizer = tf.keras.optimizers.SGD(learning_rate=0.8)\n",
    "nn_model.compile(loss='binary_crossentropy', optimizer=optimizer, metrics=[metrics.binary_accuracy])\n",
    "\n",
    "nn_model.fit(\n",
    "        x=X_train,\n",
    "        y=y_train,\n",
    "        epochs=20,\n",
    "        batch_size=500,\n",
    "        verbose=0)\n",
    "\n",
    "nn_train_preds = nn_model.predict(X_train).T[0]\n",
    "nn_val_preds = nn_model.predict(X_val).T[0]\n",
    "\n",
    "nn_train_accuracy = np.mean(nn_train_preds == y_train)\n",
    "nn_val_accuracy = np.mean(nn_val_preds == y_val)\n",
    "print(nn_train_accuracy)\n",
    "print(nn_val_accuracy)\n",
    "\n",
    "nn_test_preds = nn_model.predict(X_test).T[0]\n",
    "test_accuracy = np.mean(nn_test_preds == y_test)\n",
    "print(test_accuracy)"
   ]
  },
  {
   "cell_type": "code",
   "execution_count": null,
   "metadata": {
    "cell_id": "1b012193f4fc4e71baa768f98bf00aef",
    "deepnote_cell_type": "code",
    "deepnote_to_be_reexecuted": false,
    "execution_millis": 469,
    "execution_start": 1712947483027,
    "source_hash": null
   },
   "outputs": [],
   "source": [
    "cm = confusion_matrix(nn_test_preds, y_test)\n",
    "disp = ConfusionMatrixDisplay(confusion_matrix=cm, display_labels=lr_model.classes_)\n",
    "disp.plot()"
   ]
  },
  {
   "cell_type": "code",
   "execution_count": null,
   "metadata": {
    "cell_id": "bdfcada7ff60424f8db0a11a647c7517",
    "deepnote_cell_type": "code",
    "deepnote_to_be_reexecuted": false,
    "execution_millis": 144,
    "execution_start": 1712947484624,
    "source_hash": null
   },
   "outputs": [],
   "source": [
    "print(f1_score(y_train, nn_train_preds))\n",
    "print(f1_score(y_val, nn_val_preds))\n",
    "print(f1_score(y_test, nn_test_preds))\n",
    "print(precision_score(y_test, nn_test_preds))\n",
    "print(recall_score(y_test, nn_test_preds))"
   ]
  },
  {
   "cell_type": "code",
   "execution_count": null,
   "metadata": {
    "cell_id": "d54c2fca8f51467a998ad38d702987e4",
    "deepnote_cell_type": "code",
    "deepnote_to_be_reexecuted": false,
    "execution_millis": 1457,
    "execution_start": 1712947484779,
    "source_hash": null
   },
   "outputs": [],
   "source": [
    "import matplotlib.pyplot as plt\n",
    "from sklearn.metrics import roc_curve, auc\n",
    "\n",
    "\n",
    "plt.figure(figsize=(8, 6))\n",
    "\n",
    "models = [[\"Logistic Regression\", lr_test_preds], [\"Gaussian Naive Bayes\", gnb_test_preds], \n",
    "['Random Forest Classifier', rf_test_preds], [\"Support Vector Machine\", svm_test_preds ], \n",
    "[\"ADA Boost Classifier\", ada_test_preds],[\"Custom Neural Network\", nn_test_preds]]\n",
    "\n",
    "for name, preds in models:\n",
    "    fpr, tpr, _ = roc_curve(y_test, preds)\n",
    "    roc_auc = auc(fpr, tpr)\n",
    "    plt.plot(fpr, tpr, label=name)\n",
    "\n",
    "plt.plot([0, 1], [0, 1], linestyle='--', color='r', label='Random')\n",
    "plt.xlabel('False Positive Rate')\n",
    "plt.ylabel('True Positive Rate')\n",
    "plt.title('ROC Curve for Win/Loss Prediction')\n",
    "plt.legend()\n",
    "plt.show()"
   ]
  },
  {
   "cell_type": "markdown",
   "metadata": {
    "cell_id": "ebd42fcfe48f42bfb46e77f2cd7d8904",
    "deepnote_cell_type": "markdown"
   },
   "source": [
    "## Deep Learning Models"
   ]
  },
  {
   "cell_type": "code",
   "execution_count": null,
   "metadata": {
    "cell_id": "a6614ccd4b3b44079e3b76b09ed950f0",
    "deepnote_cell_type": "code",
    "deepnote_to_be_reexecuted": false,
    "execution_millis": 9516,
    "execution_start": 1712947486322,
    "source_hash": null
   },
   "outputs": [],
   "source": [
    "dl_df = pd.read_csv(go_back + 'all_train_data.csv')\n",
    "dl_df = dl_df.drop(['Unnamed: 0','score', 'opponentScore', 'total', 'secondHalfTotal'], axis = 1)\n",
    "dl_df\n"
   ]
  },
  {
   "cell_type": "code",
   "execution_count": null,
   "metadata": {
    "cell_id": "d3a3f406683e44a29482b765a213e119",
    "deepnote_cell_type": "code",
    "deepnote_to_be_reexecuted": true,
    "source_hash": null
   },
   "outputs": [],
   "source": [
    "# preprocessing\n",
    "X = dl_df.drop(['team', 'opponent', 'outcome', 'date'], axis = 1)\n",
    "y = dl_df['outcome']\n",
    "X"
   ]
  },
  {
   "cell_type": "markdown",
   "metadata": {
    "cell_id": "e292e74bdaac4067acab10db25273f40",
    "deepnote_cell_type": "markdown"
   },
   "source": [
    "We'll start off by turning our time series data into tensors highlighting stats of recent games. This makes the data in perfect shape for entering into our LSTM. For example, If we want to predict the sixth game of the season, the input will be all the statistics from the first five games and the output will be the result of the sixth game."
   ]
  },
  {
   "cell_type": "code",
   "execution_count": null,
   "metadata": {
    "cell_id": "35bb7671b7f9428ab3c14e2377e3f291",
    "deepnote_cell_type": "code",
    "deepnote_to_be_reexecuted": true,
    "source_hash": null
   },
   "outputs": [],
   "source": [
    "#Parameters for building out our model\n",
    "n_timesteps = 5 #The number of past games we want to focus on for the outcome of the current game\n",
    "n_features = X.shape[1] #highlights how many features from our final tensor we are showing the model\n",
    "\n",
    "\n",
    "def create_sequences(data, labels, sequence_length = n_timesteps):\n",
    "    \"\"\"\n",
    "    Create sequences of data with corresponding labels.\n",
    "    \n",
    "    :param data: Scaled features for all games.\n",
    "    :param labels: Outcomes for all games.\n",
    "    :param sequence_length: Number of games in each sequence (e.g., 5 for games 1-5).\n",
    "    :return: Sequences of features and their corresponding outcome labels.\n",
    "    \"\"\"\n",
    "    X, y = [], []\n",
    "\n",
    "    for i in range(len(data) - sequence_length):\n",
    "        X.append(data[i:(i + sequence_length)])\n",
    "        # The label for a sequence is the outcome of the game following the sequence\n",
    "        y.append(labels[i + sequence_length])  # The outcome of game a based on data from games (a - sequence_length, a)\n",
    "    return np.array(X), np.array(y)\n",
    "\n",
    "def preprocess_data(df, sequence_length = n_timesteps, scale = True):\n",
    "\n",
    "    scaler = StandardScaler()\n",
    "    team_data_tensors = {}\n",
    "    \n",
    "    df = df.drop(['opponent', 'date'], axis=1)\n",
    "    for team in df['team'].unique():\n",
    "        team_df = df[df['team'] == team]\n",
    "        \n",
    "        # Prepare features and labels\n",
    "        features = team_df.drop(columns=['team', 'outcome'])\n",
    "        labels = team_df['outcome'].values  # Outcomes as labels\n",
    "        \n",
    "        # Scale the features if we want to\n",
    "        if scale:\n",
    "            features_scaled = scaler.fit_transform(features)\n",
    "        else:\n",
    "            features_scaled = features\n",
    "        \n",
    "        # Create sequences and their corresponding labels\n",
    "        X_team, y_team = create_sequences(features_scaled, labels, sequence_length)\n",
    "        \n",
    "        # Store the 3D tensor and labels for the team\n",
    "        team_data_tensors[team] = (X_team, y_team)\n",
    "        \n",
    "    return team_data_tensors\n",
    "\n",
    "\n",
    "team_data_tensors = preprocess_data(df, n_timesteps, False)\n",
    "\n",
    "def concatenate_dict_items(my_dict):\n",
    "    first_key, first_value = next(iter(my_dict.items()))\n",
    "    first_dim = first_value[0].shape[1]\n",
    "    second_dim = first_value[0].shape[2]\n",
    "\n",
    "    fin_tensor = np.empty((0, first_dim, second_dim))\n",
    "    fin_label_tensor = np.empty((0, ))\n",
    "\n",
    "    for value in my_dict.values():\n",
    "\n",
    "        fin_tensor = np.concatenate((fin_tensor, value[0]), axis=0)\n",
    "        fin_label_tensor = np.concatenate((fin_label_tensor, value[1]))\n",
    "\n",
    "    return fin_tensor, fin_label_tensor\n",
    "\n",
    "fin_tensor, fin_label_tensor = concatenate_dict_items(team_data_tensors) #Tensors for training"
   ]
  },
  {
   "cell_type": "code",
   "execution_count": null,
   "metadata": {
    "cell_id": "cef1ce605c4a4ed9bf873e1e18b8c193",
    "deepnote_cell_type": "code",
    "deepnote_to_be_reexecuted": true,
    "source_hash": null
   },
   "outputs": [],
   "source": [
    "#Defining test data that we will use for evaluation as well as training and validation splits\n",
    "test_df = pd.read_csv('all_data_test.csv').drop(['Unnamed: 0','score', 'opponentScore', 'total', 'secondHalfTotal'], axis = 1)\n",
    "team_data_tensors = preprocess_data(test_df, n_timesteps, False)\n",
    "fin_test_tensor, fin_test_label_tensor = concatenate_dict_items(team_data_tensors)"
   ]
  },
  {
   "cell_type": "markdown",
   "metadata": {
    "cell_id": "ffcb1ce421eb4489ae2e73e5080de07b",
    "deepnote_app_block_visible": false,
    "deepnote_cell_type": "markdown"
   },
   "source": [
    "### Defining the Models"
   ]
  },
  {
   "cell_type": "code",
   "execution_count": null,
   "metadata": {
    "cell_id": "3174fb6db6d44b11b71f6ca32e293ae4",
    "deepnote_cell_type": "code",
    "deepnote_to_be_reexecuted": true,
    "execution_millis": 284,
    "execution_start": 1712798111271,
    "source_hash": null
   },
   "outputs": [],
   "source": [
    "epochs = 10\n",
    "batch_size = 32\n",
    "learning_rate = 3e-4\n",
    "\n",
    "#Function defining the model architecture of our LSTM model\n",
    "def build_LSTM_model(units = 128, n_timesteps = n_timesteps, n_features = n_features, activation = 'relu'):\n",
    "\n",
    "    # Using LSTM model architecture\n",
    "    model = Sequential([\n",
    "    LSTM(units, input_shape=(n_timesteps, n_features), return_sequences=True, kernel_regularizer=l2(0.01)),\n",
    "    Dropout(0.25),\n",
    "    BatchNormalization(),\n",
    "    LSTM(units, activation = activation, return_sequences=True, kernel_regularizer=l2(0.01)),\n",
    "    Dropout(0.25),\n",
    "    BatchNormalization(),\n",
    "    LSTM(units, activation = activation, kernel_regularizer=l2(0.01)),\n",
    "    Dropout(0.25),\n",
    "    BatchNormalization(),\n",
    "    Dense(32, activation='relu'),\n",
    "    Dense(1, activation='sigmoid')\n",
    "])\n",
    "    opt = Adam(learning_rate)\n",
    "    model.compile(optimizer=opt, loss='binary_crossentropy', metrics=['accuracy'])\n",
    "    return model\n",
    "\n",
    "\n",
    "lstm_model = build_LSTM_model()\n",
    "\n",
    "def build_GRU_model(units = 128, n_timesteps = n_timesteps, n_features = n_features, activation = 'relu'):\n",
    "\n",
    "    # Using GRU model architecture\n",
    "    model = Sequential([\n",
    "    GRU(units, input_shape=(n_timesteps, n_features), return_sequences=True, kernel_regularizer=l2(0.009)),\n",
    "    Dropout(0.2),\n",
    "    BatchNormalization(),\n",
    "    GRU(units, activation = activation, return_sequences=True, kernel_regularizer=l2(0.009)),\n",
    "    Dropout(0.2),\n",
    "    BatchNormalization(),\n",
    "    GRU(units, activation = activation, kernel_regularizer=l2(0.009)),\n",
    "    Dense(32, activation='relu'),\n",
    "    Dense(1, activation='sigmoid')\n",
    "],)\n",
    "    opt = Adam(learning_rate)\n",
    "\n",
    "    model.compile(optimizer='adam', loss='binary_crossentropy', metrics=['accuracy'])\n",
    "    return model\n",
    "\n",
    "\n",
    "gru_model = build_GRU_model()"
   ]
  },
  {
   "cell_type": "code",
   "execution_count": null,
   "metadata": {
    "cell_id": "65184f92caec4aa5958071ee3f090bb0",
    "deepnote_cell_type": "code",
    "deepnote_to_be_reexecuted": true,
    "source_hash": null
   },
   "outputs": [],
   "source": [
    "def plot_loss_history(history, model = 'LSTM'):\n",
    "    plt.figure(figsize=(10, 6))\n",
    "    plt.plot(history.history['loss'], label=f'{model} Training Loss')\n",
    "    plt.plot(history.history['val_loss'], label=f'{model} Validation Loss')\n",
    "    plt.title(f'Model Loss Progression for the {model} Model')\n",
    "    plt.ylabel('Loss')\n",
    "    plt.xlabel('Epoch')\n",
    "    plt.legend(loc='upper right')\n",
    "    plt.show()\n",
    "\n",
    "def plot_acc_history(history, model = 'LSTM'):\n",
    "    plt.figure(figsize=(10, 6))\n",
    "    plt.plot(history.history['accuracy'], label=f'{model} Training Accuracy')\n",
    "    plt.plot(history.history['val_accuracy'], label=f'{model} Validation Accuracy')\n",
    "    plt.title(f'Model History Progression for the {model} Model')\n",
    "    plt.ylabel('Accuracy')\n",
    "    plt.xlabel('Epoch')\n",
    "    plt.legend(loc='upper right')\n",
    "    plt.show()\n",
    "\n",
    "def plot_history(history, model):\n",
    "    plot_loss_history(history, model)\n",
    "    plot_acc_history(history, model)\n"
   ]
  },
  {
   "cell_type": "code",
   "execution_count": null,
   "metadata": {
    "cell_id": "2f6dd6e056184e2ab61ecaef9bc261fa",
    "deepnote_cell_type": "code",
    "deepnote_to_be_reexecuted": true,
    "source_hash": null
   },
   "outputs": [],
   "source": [
    "history = gru_model.fit(fin_tensor, fin_label_tensor, epochs=epochs, batch_size=batch_size, validation_split=0.1)\n",
    "plot_history(history, 'GRU')\n",
    "history = lstm_model.fit(fin_tensor, fin_label_tensor, epochs=epochs, batch_size=batch_size, validation_split=0.1)\n",
    "plot_history(history, 'LSTM')"
   ]
  },
  {
   "cell_type": "code",
   "execution_count": null,
   "metadata": {
    "cell_id": "8dc7ade718d540cca72ddd5684b4e146",
    "deepnote_cell_type": "code",
    "deepnote_to_be_reexecuted": true,
    "source_hash": null
   },
   "outputs": [],
   "source": [
    "gru_model.evaluate(fin_test_tensor, fin_test_label_tensor)"
   ]
  },
  {
   "cell_type": "code",
   "execution_count": null,
   "metadata": {
    "cell_id": "7a85191541ea45d08e2b2d3c6c194259",
    "deepnote_cell_type": "code",
    "deepnote_to_be_reexecuted": true,
    "source_hash": null
   },
   "outputs": [],
   "source": [
    "lstm_model.evaluate(fin_test_tensor, fin_test_label_tensor)"
   ]
  },
  {
   "cell_type": "markdown",
   "metadata": {
    "cell_id": "357b89c74efb464e9134c1cab7e2b45a",
    "deepnote_cell_type": "text-cell-h1",
    "formattedRanges": []
   },
   "source": [
    "# Expected Profit Calculation"
   ]
  },
  {
   "cell_type": "code",
   "execution_count": null,
   "metadata": {
    "cell_id": "367206ae36a14b08b22ace8f7b3cecda",
    "deepnote_cell_type": "code",
    "deepnote_to_be_reexecuted": true,
    "execution_millis": 252,
    "execution_start": 1712799981945,
    "source_hash": null
   },
   "outputs": [],
   "source": [
    "profit_test = X_val.copy()\n",
    "profit_test['predictions'] = rf_val_preds #Using random forest\n",
    "profit_test['outcome'] = df['outcome']\n",
    "profit_test.head()"
   ]
  },
  {
   "cell_type": "code",
   "execution_count": null,
   "metadata": {
    "cell_id": "4bbd3f5064f94eae8e86c7c32c788a69",
    "deepnote_cell_type": "code",
    "deepnote_to_be_reexecuted": true,
    "execution_millis": 98,
    "execution_start": 1712799986850,
    "source_hash": null
   },
   "outputs": [],
   "source": [
    "#dont bet on games with high moneylines\n",
    "def calculate_profits_with_outcome(df, bet_amount=100, ml_cutoff = -250):\n",
    "    total_profit = 0\n",
    "    count_bets = 0\n",
    "    predicted_outcomes = df.predictions\n",
    "    outcomes = df.outcome\n",
    "    home_moneylines = df.moneyLine\n",
    "    opponent_moneylines = df.opponentMoneyLine\n",
    "\n",
    "    for pred, outcome, home_ml, opp_ml in zip(predicted_outcomes, outcomes, home_moneylines, opponent_moneylines):\n",
    "        if (pred == 0 and opp_ml >= ml_cutoff) or (pred == 1 and home_ml >= ml_cutoff):\n",
    "            if pred == outcome:  # Prediction matches outcome\n",
    "                if pred == 0:  # Opponent wins\n",
    "                    if opp_ml > 0:\n",
    "                        profit = bet_amount * (opp_ml / 100)\n",
    "                    else:\n",
    "                        profit = bet_amount / (-opp_ml / 100)\n",
    "                    total_profit += profit\n",
    "                else:  # Home team wins\n",
    "                    if home_ml > 0:\n",
    "                        profit = bet_amount * (home_ml / 100)\n",
    "                    else:\n",
    "                        profit = bet_amount / (-home_ml / 100)\n",
    "                    total_profit += profit\n",
    "            else:  # Prediction does not match outcome\n",
    "                total_profit -= bet_amount\n",
    "\n",
    "    return total_profit\n",
    "\n",
    "total_profit = calculate_profits_with_outcome(profit_test, 100, -150)\n",
    "total_profit"
   ]
  },
  {
   "cell_type": "code",
   "execution_count": null,
   "metadata": {
    "cell_id": "1e14f0196532406aab40df6823c2a595",
    "deepnote_cell_type": "code",
    "deepnote_to_be_reexecuted": true,
    "execution_millis": 1062,
    "execution_start": 1712799989925,
    "source_hash": null
   },
   "outputs": [],
   "source": [
    "profits = []\n",
    "possible_ml_thresholds = np.arange(-100, -450, -25)\n",
    "\n",
    "for i in possible_ml_thresholds:\n",
    "    curr_profit = calculate_profits_with_outcome(profit_test, 100, i)\n",
    "    profits.append(curr_profit)\n",
    "\n",
    "plt.plot(possible_ml_thresholds, profits)\n",
    "plt.xlabel(\"ML Cutoff\")\n",
    "plt.ylabel('Profit');"
   ]
  },
  {
   "cell_type": "code",
   "execution_count": null,
   "metadata": {
    "cell_id": "9830b976512e4340bc087cd2a6871431",
    "deepnote_cell_type": "code",
    "deepnote_to_be_reexecuted": true,
    "execution_millis": 230,
    "execution_start": 1712799995013,
    "source_hash": null
   },
   "outputs": [],
   "source": [
    "test_probs = lr_model.predict_proba(X_val)\n",
    "test_probs\n",
    "\n",
    "profits = []\n",
    "possible_thresholds = np.arange(0.5, 1, 0.05)\n",
    "\n",
    "for i in possible_thresholds:\n",
    "    threshold_index = np.where(test_probs > i)[0]\n",
    "    curr_data = profit_test.iloc[threshold_index]\n",
    "    curr_profit = calculate_profits_with_outcome(curr_data, 100, -150)\n",
    "    profits.append(curr_profit)\n",
    "\n",
    "plt.plot(possible_thresholds, profits)\n",
    "plt.title('Profits From Predictions on Different Thresholds')\n",
    "plt.xlabel('Confidence Threshold')\n",
    "plt.ylabel('Profits')"
   ]
  },
  {
   "cell_type": "code",
   "execution_count": null,
   "metadata": {
    "cell_id": "a8a450b8cf794c0b84966158a3c1d4ce",
    "deepnote_cell_type": "code",
    "deepnote_to_be_reexecuted": true,
    "execution_millis": 356,
    "execution_start": 1712796291607,
    "source_hash": null
   },
   "outputs": [],
   "source": [
    "def upsets(predicted_outcomes, outcomes, home_moneylines, opponent_moneylines, bet_amount=100):\n",
    "    total_profit = 0\n",
    "\n",
    "    for pred, outcome, home_ml, opp_ml in zip(predicted_outcomes, outcomes, home_moneylines, opponent_moneylines):\n",
    "        if (pred == 0 and opp_ml >= 0) or (pred == 1 and home_ml >= 0):\n",
    "            if pred == outcome:  # Prediction matches outcome\n",
    "                if pred == 0:  # Opponent wins\n",
    "                    if opp_ml > 0:\n",
    "                        profit = bet_amount * (opp_ml / 100)\n",
    "                    else:\n",
    "                        profit = bet_amount / (-opp_ml / 100)\n",
    "                    total_profit += profit\n",
    "                else:  # Home team wins\n",
    "                    if home_ml > 0:\n",
    "                        profit = bet_amount * (home_ml / 100)\n",
    "                    else:\n",
    "                        profit = bet_amount / (-home_ml / 100)\n",
    "                    total_profit += profit\n",
    "            else:  # Prediction does not match outcome\n",
    "                total_profit -= bet_amount\n",
    "\n",
    "    return total_profit\n",
    "total_profit = upsets(profit_test.predictions,profit_test.outcome, profit_test.moneyLine, profit_test.opponentMoneyLine, 100)\n",
    "total_profit"
   ]
  }
 ],
 "metadata": {
  "deepnote_execution_queue": [],
  "deepnote_notebook_id": "b855c59ef506413db4f396446b6afe39",
  "kernelspec": {
   "display_name": "Python 3 (ipykernel)",
   "language": "python",
   "name": "python3"
  },
  "language_info": {
   "codemirror_mode": {
    "name": "ipython",
    "version": 3
   },
   "file_extension": ".py",
   "mimetype": "text/x-python",
   "name": "python",
   "nbconvert_exporter": "python",
   "pygments_lexer": "ipython3",
   "version": "3.11.8"
  }
 },
 "nbformat": 4,
 "nbformat_minor": 4
}
