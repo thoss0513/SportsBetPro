{
 "cells": [
  {
   "cell_type": "code",
   "execution_count": 1,
   "metadata": {
    "cell_id": "a31161b0aab643099328d14d08be9c8c",
    "deepnote_cell_type": "code",
    "deepnote_to_be_reexecuted": false,
    "execution_millis": 4074,
    "execution_start": 1712889872359,
    "source_hash": null
   },
   "outputs": [
    {
     "name": "stderr",
     "output_type": "stream",
     "text": [
      "2024-04-12 19:39:02.621524: I tensorflow/core/platform/cpu_feature_guard.cc:210] This TensorFlow binary is optimized to use available CPU instructions in performance-critical operations.\n",
      "To enable the following instructions: AVX2 FMA, in other operations, rebuild TensorFlow with the appropriate compiler flags.\n"
     ]
    }
   ],
   "source": [
    "import pandas as pd\n",
    "import numpy as np\n",
    "import matplotlib.pyplot as plt\n",
    "%matplotlib inline\n",
    "import seaborn as sns\n",
    "import tensorflow as tf\n",
    "from sklearn.model_selection import train_test_split\n",
    "from tensorflow import keras\n",
    "from keras import metrics\n",
    "\n",
    "go_back = '../data/'"
   ]
  },
  {
   "cell_type": "code",
   "execution_count": 2,
   "metadata": {
    "cell_id": "abf6c99cf0744b7984d5e3a87c2995a0",
    "deepnote_cell_type": "code",
    "deepnote_to_be_reexecuted": false,
    "execution_millis": 714,
    "execution_start": 1712889876435,
    "source_hash": null
   },
   "outputs": [
    {
     "data": {
      "text/html": [
       "<div>\n",
       "<style scoped>\n",
       "    .dataframe tbody tr th:only-of-type {\n",
       "        vertical-align: middle;\n",
       "    }\n",
       "\n",
       "    .dataframe tbody tr th {\n",
       "        vertical-align: top;\n",
       "    }\n",
       "\n",
       "    .dataframe thead th {\n",
       "        text-align: right;\n",
       "    }\n",
       "</style>\n",
       "<table border=\"1\" class=\"dataframe\">\n",
       "  <thead>\n",
       "    <tr style=\"text-align: right;\">\n",
       "      <th></th>\n",
       "      <th>Unnamed: 0</th>\n",
       "      <th>date</th>\n",
       "      <th>team</th>\n",
       "      <th>opponent</th>\n",
       "      <th>score</th>\n",
       "      <th>opponentScore</th>\n",
       "      <th>moneyLine</th>\n",
       "      <th>opponentMoneyLine</th>\n",
       "      <th>total</th>\n",
       "      <th>spread</th>\n",
       "      <th>...</th>\n",
       "      <th>REB/G_opp</th>\n",
       "      <th>AST/G_opp</th>\n",
       "      <th>STL/G_opp</th>\n",
       "      <th>BLK/G_opp</th>\n",
       "      <th>TOV/G_opp</th>\n",
       "      <th>PF/G_opp</th>\n",
       "      <th>PTS/G_opp</th>\n",
       "      <th>win%_opp</th>\n",
       "      <th>home</th>\n",
       "      <th>outcome</th>\n",
       "    </tr>\n",
       "  </thead>\n",
       "  <tbody>\n",
       "    <tr>\n",
       "      <th>0</th>\n",
       "      <td>0</td>\n",
       "      <td>2008-10-31</td>\n",
       "      <td>Chicago</td>\n",
       "      <td>Boston</td>\n",
       "      <td>80</td>\n",
       "      <td>96</td>\n",
       "      <td>450.0</td>\n",
       "      <td>-600.0</td>\n",
       "      <td>189.0</td>\n",
       "      <td>10.0</td>\n",
       "      <td>...</td>\n",
       "      <td>36.0</td>\n",
       "      <td>16.0</td>\n",
       "      <td>10.0</td>\n",
       "      <td>0.0</td>\n",
       "      <td>16.0</td>\n",
       "      <td>28.0</td>\n",
       "      <td>90.0</td>\n",
       "      <td>1.0</td>\n",
       "      <td>0</td>\n",
       "      <td>0</td>\n",
       "    </tr>\n",
       "    <tr>\n",
       "      <th>1</th>\n",
       "      <td>1</td>\n",
       "      <td>2008-10-31</td>\n",
       "      <td>Boston</td>\n",
       "      <td>Chicago</td>\n",
       "      <td>96</td>\n",
       "      <td>80</td>\n",
       "      <td>-600.0</td>\n",
       "      <td>450.0</td>\n",
       "      <td>189.0</td>\n",
       "      <td>-10.0</td>\n",
       "      <td>...</td>\n",
       "      <td>40.0</td>\n",
       "      <td>27.0</td>\n",
       "      <td>9.0</td>\n",
       "      <td>6.0</td>\n",
       "      <td>18.0</td>\n",
       "      <td>18.0</td>\n",
       "      <td>108.0</td>\n",
       "      <td>1.0</td>\n",
       "      <td>1</td>\n",
       "      <td>1</td>\n",
       "    </tr>\n",
       "    <tr>\n",
       "      <th>2</th>\n",
       "      <td>2</td>\n",
       "      <td>2008-10-31</td>\n",
       "      <td>LA Clippers</td>\n",
       "      <td>Denver</td>\n",
       "      <td>103</td>\n",
       "      <td>113</td>\n",
       "      <td>100.0</td>\n",
       "      <td>-120.0</td>\n",
       "      <td>196.5</td>\n",
       "      <td>1.5</td>\n",
       "      <td>...</td>\n",
       "      <td>35.0</td>\n",
       "      <td>17.0</td>\n",
       "      <td>12.0</td>\n",
       "      <td>3.0</td>\n",
       "      <td>13.0</td>\n",
       "      <td>27.0</td>\n",
       "      <td>94.0</td>\n",
       "      <td>0.0</td>\n",
       "      <td>1</td>\n",
       "      <td>0</td>\n",
       "    </tr>\n",
       "    <tr>\n",
       "      <th>3</th>\n",
       "      <td>3</td>\n",
       "      <td>2008-10-31</td>\n",
       "      <td>Toronto</td>\n",
       "      <td>Golden State</td>\n",
       "      <td>112</td>\n",
       "      <td>108</td>\n",
       "      <td>-280.0</td>\n",
       "      <td>240.0</td>\n",
       "      <td>207.0</td>\n",
       "      <td>-6.5</td>\n",
       "      <td>...</td>\n",
       "      <td>39.0</td>\n",
       "      <td>18.0</td>\n",
       "      <td>10.0</td>\n",
       "      <td>5.0</td>\n",
       "      <td>13.0</td>\n",
       "      <td>26.0</td>\n",
       "      <td>103.0</td>\n",
       "      <td>0.0</td>\n",
       "      <td>1</td>\n",
       "      <td>1</td>\n",
       "    </tr>\n",
       "    <tr>\n",
       "      <th>4</th>\n",
       "      <td>4</td>\n",
       "      <td>2008-10-31</td>\n",
       "      <td>Denver</td>\n",
       "      <td>LA Clippers</td>\n",
       "      <td>113</td>\n",
       "      <td>103</td>\n",
       "      <td>-120.0</td>\n",
       "      <td>100.0</td>\n",
       "      <td>196.5</td>\n",
       "      <td>-1.5</td>\n",
       "      <td>...</td>\n",
       "      <td>32.0</td>\n",
       "      <td>24.0</td>\n",
       "      <td>9.0</td>\n",
       "      <td>5.0</td>\n",
       "      <td>18.0</td>\n",
       "      <td>29.0</td>\n",
       "      <td>79.0</td>\n",
       "      <td>0.0</td>\n",
       "      <td>0</td>\n",
       "      <td>1</td>\n",
       "    </tr>\n",
       "  </tbody>\n",
       "</table>\n",
       "<p>5 rows × 35 columns</p>\n",
       "</div>"
      ],
      "text/plain": [
       "   Unnamed: 0        date         team      opponent  score  opponentScore  \\\n",
       "0           0  2008-10-31      Chicago        Boston     80             96   \n",
       "1           1  2008-10-31       Boston       Chicago     96             80   \n",
       "2           2  2008-10-31  LA Clippers        Denver    103            113   \n",
       "3           3  2008-10-31      Toronto  Golden State    112            108   \n",
       "4           4  2008-10-31       Denver   LA Clippers    113            103   \n",
       "\n",
       "   moneyLine  opponentMoneyLine  total  spread  ...  REB/G_opp  AST/G_opp  \\\n",
       "0      450.0             -600.0  189.0    10.0  ...       36.0       16.0   \n",
       "1     -600.0              450.0  189.0   -10.0  ...       40.0       27.0   \n",
       "2      100.0             -120.0  196.5     1.5  ...       35.0       17.0   \n",
       "3     -280.0              240.0  207.0    -6.5  ...       39.0       18.0   \n",
       "4     -120.0              100.0  196.5    -1.5  ...       32.0       24.0   \n",
       "\n",
       "   STL/G_opp  BLK/G_opp  TOV/G_opp  PF/G_opp  PTS/G_opp  win%_opp  home  \\\n",
       "0       10.0        0.0       16.0      28.0       90.0       1.0     0   \n",
       "1        9.0        6.0       18.0      18.0      108.0       1.0     1   \n",
       "2       12.0        3.0       13.0      27.0       94.0       0.0     1   \n",
       "3       10.0        5.0       13.0      26.0      103.0       0.0     1   \n",
       "4        9.0        5.0       18.0      29.0       79.0       0.0     0   \n",
       "\n",
       "   outcome  \n",
       "0        0  \n",
       "1        1  \n",
       "2        0  \n",
       "3        1  \n",
       "4        1  \n",
       "\n",
       "[5 rows x 35 columns]"
      ]
     },
     "execution_count": 2,
     "metadata": {},
     "output_type": "execute_result"
    }
   ],
   "source": [
    "df = pd.read_csv(go_back + 'all_data_train.csv')\n",
    "df.head()"
   ]
  },
  {
   "cell_type": "code",
   "execution_count": 3,
   "metadata": {
    "cell_id": "9c433e7f7d3143dc8e5e9b261cda86b5",
    "deepnote_cell_type": "code",
    "deepnote_to_be_reexecuted": false,
    "execution_millis": 30,
    "execution_start": 1712889878976,
    "source_hash": null
   },
   "outputs": [],
   "source": [
    "df['actual_spread'] = df['opponentScore'] - df['score']"
   ]
  },
  {
   "cell_type": "code",
   "execution_count": 4,
   "metadata": {
    "cell_id": "0269fd30f1494914a9f353c9a3cdd130",
    "deepnote_cell_type": "code",
    "deepnote_to_be_reexecuted": false,
    "execution_millis": 74,
    "execution_start": 1712890167529,
    "source_hash": null
   },
   "outputs": [],
   "source": [
    "X = df.drop(['Unnamed: 0', 'team', 'opponent', 'total', 'date', 'score',\n",
    "            'opponentScore','secondHalfTotal', 'total', 'actual_spread', 'outcome'], axis = 1)\n",
    "Y = df['actual_spread']\n",
    "\n",
    "X_train, X_val, y_train, y_val = train_test_split(X, Y, test_size=0.2, random_state=42)"
   ]
  },
  {
   "cell_type": "code",
   "execution_count": 5,
   "metadata": {
    "cell_id": "c7760aa4268a4e8ca89f576d4e6b07e3",
    "deepnote_cell_type": "code",
    "deepnote_to_be_reexecuted": false,
    "execution_millis": 343,
    "execution_start": 1712890173140,
    "source_hash": null
   },
   "outputs": [],
   "source": [
    "test = pd.read_csv(go_back + 'all_data_test.csv')\n",
    "test['actual_spread'] = test['opponentScore'] - test['score']\n",
    "\n",
    "X_test = test.drop(['Unnamed: 0', 'team', 'opponent', 'total', 'date', 'score',\n",
    "            'opponentScore','secondHalfTotal', 'total', 'actual_spread', 'outcome'], axis = 1)\n",
    "y_test = test['actual_spread']"
   ]
  },
  {
   "cell_type": "markdown",
   "metadata": {
    "cell_id": "e96fdae3163b4f8894da7e67cbca8bdc",
    "deepnote_cell_type": "text-cell-h1",
    "formattedRanges": []
   },
   "source": [
    "# Regression Modeling"
   ]
  },
  {
   "cell_type": "code",
   "execution_count": 6,
   "metadata": {
    "cell_id": "77735e56f0bd41d793dc6ee2b1eaba72",
    "deepnote_cell_type": "code",
    "deepnote_to_be_reexecuted": false,
    "execution_millis": 215,
    "execution_start": 1712890177673,
    "source_hash": null
   },
   "outputs": [
    {
     "name": "stdout",
     "output_type": "stream",
     "text": [
      "Train RMSE: 12.047873509843477\n",
      "Val RMSE: 12.122899232571793\n",
      "Test RMSE: 13.603670330785382\n"
     ]
    }
   ],
   "source": [
    "from sklearn.linear_model import LinearRegression\n",
    "from sklearn.metrics import mean_squared_error\n",
    "model = LinearRegression(fit_intercept = True)\n",
    "model.fit(X_train, y_train)\n",
    "\n",
    "lr_train_pred = model.predict(X_train)\n",
    "train_rmse = np.sqrt(mean_squared_error(y_train, lr_train_pred))\n",
    "\n",
    "lr_val_pred = model.predict(X_val)\n",
    "val_mse = mean_squared_error(y_val, lr_val_pred)\n",
    "val_rmse = np.sqrt(val_mse)\n",
    "\n",
    "lr_test_pred = model.predict(X_test)\n",
    "test_rmse = np.sqrt(mean_squared_error(y_test, lr_test_pred))\n",
    "\n",
    "print('Train RMSE:', train_rmse)\n",
    "print(\"Val RMSE:\", val_rmse)\n",
    "print('Test RMSE:', test_rmse)"
   ]
  },
  {
   "cell_type": "code",
   "execution_count": 7,
   "metadata": {
    "cell_id": "180372d1b41b4141a09d1b0322a8aabf",
    "deepnote_cell_type": "code",
    "deepnote_to_be_reexecuted": false,
    "execution_millis": 16721,
    "execution_start": 1712890181713,
    "source_hash": null
   },
   "outputs": [
    {
     "name": "stdout",
     "output_type": "stream",
     "text": [
      "Train RMSE: 11.74517686774626\n",
      "Val RMSE: 12.108525009975082\n",
      "Test RMSE: 13.651822544055161\n"
     ]
    }
   ],
   "source": [
    "from sklearn.ensemble import RandomForestRegressor\n",
    "rf_model = RandomForestRegressor(max_depth = 6, min_samples_leaf = 3)\n",
    "rf_model.fit(X_train, y_train)\n",
    "\n",
    "rf_train_pred = rf_model.predict(X_train)\n",
    "train_rmse = np.sqrt(mean_squared_error(y_train, rf_train_pred))\n",
    "\n",
    "rf_val_pred = rf_model.predict(X_val)\n",
    "val_mse = mean_squared_error(y_val, rf_val_pred)\n",
    "val_rmse = np.sqrt(val_mse)\n",
    "\n",
    "rf_test_pred = rf_model.predict(X_test)\n",
    "test_rmse = np.sqrt(mean_squared_error(y_test, rf_test_pred))\n",
    "\n",
    "print('Train RMSE:', train_rmse)\n",
    "print(\"Val RMSE:\", val_rmse)\n",
    "print('Test RMSE:', test_rmse)"
   ]
  },
  {
   "cell_type": "code",
   "execution_count": 8,
   "metadata": {
    "cell_id": "380d063a65ee41598e326d4bb1b5f881",
    "deepnote_cell_type": "code",
    "deepnote_to_be_reexecuted": false,
    "execution_millis": 233,
    "execution_start": 1712889907846,
    "source_hash": null
   },
   "outputs": [],
   "source": [
    "import warnings\n",
    "warnings.filterwarnings('ignore')"
   ]
  },
  {
   "cell_type": "code",
   "execution_count": 9,
   "metadata": {
    "cell_id": "ea8b825375a94f4b962c9ab25eb3777b",
    "deepnote_cell_type": "code",
    "deepnote_to_be_reexecuted": false,
    "execution_millis": 10560,
    "execution_start": 1712890205408,
    "source_hash": null
   },
   "outputs": [
    {
     "name": "stdout",
     "output_type": "stream",
     "text": [
      "Train RMSE: 12.1420237625337\n",
      "Val RMSE: 12.271960469090311\n",
      "Test RMSE: 13.723654129522323\n"
     ]
    }
   ],
   "source": [
    "from sklearn.neural_network import MLPRegressor\n",
    "\n",
    "MLP_model = MLPRegressor(early_stopping=True, solver=\"adam\", max_iter=1000)\n",
    "\n",
    "MLP_model.fit(X_train, y_train)\n",
    "\n",
    "mlp_train_pred = MLP_model.predict(X_train)\n",
    "train_rmse = np.sqrt(mean_squared_error(y_train, mlp_train_pred))\n",
    "\n",
    "mlp_val_pred = MLP_model.predict(X_val)\n",
    "val_mse = mean_squared_error(y_val, mlp_val_pred)\n",
    "val_rmse = np.sqrt(val_mse)\n",
    "\n",
    "mlp_test_pred = MLP_model.predict(X_test)\n",
    "test_rmse = np.sqrt(mean_squared_error(y_test, mlp_test_pred))\n",
    "\n",
    "print('Train RMSE:', train_rmse)\n",
    "print(\"Val RMSE:\", val_rmse)\n",
    "print('Test RMSE:', test_rmse)"
   ]
  },
  {
   "cell_type": "markdown",
   "metadata": {
    "cell_id": "ada7f0a74eb841d9800e58de98153194",
    "deepnote_cell_type": "text-cell-h1",
    "formattedRanges": []
   },
   "source": [
    "# Calculating Expected Earnings"
   ]
  },
  {
   "cell_type": "code",
   "execution_count": 10,
   "metadata": {
    "cell_id": "b00a6bbbd19e4c98907012778ef2be99",
    "deepnote_cell_type": "code",
    "deepnote_to_be_reexecuted": false,
    "execution_millis": 77,
    "execution_start": 1712890222528,
    "source_hash": null
   },
   "outputs": [],
   "source": [
    "vegas_spread = list(test['spread'])"
   ]
  },
  {
   "cell_type": "code",
   "execution_count": 11,
   "metadata": {
    "cell_id": "caf36ea042504958b35384d13ad6631d",
    "deepnote_cell_type": "code",
    "deepnote_to_be_reexecuted": false,
    "execution_millis": 11,
    "execution_start": 1712890225122,
    "source_hash": null
   },
   "outputs": [],
   "source": [
    "def spread_earnings(preds, actual, vegas):\n",
    "    earnings = 0\n",
    "    num_correct = 0\n",
    "    for i in range(len(preds)):\n",
    "        if (preds[i] > vegas[i]) and (actual[i] > vegas[i]):\n",
    "            earnings += 100\n",
    "            num_correct += 1\n",
    "        elif (preds[i] < vegas[i]) and (actual[i] < vegas[i]):\n",
    "            earnings += 100\n",
    "            num_correct += 1\n",
    "        elif actual[i] == vegas[i]:\n",
    "            continue\n",
    "        else:\n",
    "            earnings -= 110\n",
    "    return earnings, num_correct / len(preds)"
   ]
  },
  {
   "cell_type": "code",
   "execution_count": 12,
   "metadata": {
    "cell_id": "e2c78959d9d945adac9021304abdfbea",
    "deepnote_cell_type": "code",
    "deepnote_to_be_reexecuted": false,
    "execution_millis": 257,
    "execution_start": 1712890227857,
    "source_hash": null
   },
   "outputs": [
    {
     "data": {
      "text/html": [
       "<div>\n",
       "<style scoped>\n",
       "    .dataframe tbody tr th:only-of-type {\n",
       "        vertical-align: middle;\n",
       "    }\n",
       "\n",
       "    .dataframe tbody tr th {\n",
       "        vertical-align: top;\n",
       "    }\n",
       "\n",
       "    .dataframe thead th {\n",
       "        text-align: right;\n",
       "    }\n",
       "</style>\n",
       "<table border=\"1\" class=\"dataframe\">\n",
       "  <thead>\n",
       "    <tr style=\"text-align: right;\">\n",
       "      <th></th>\n",
       "      <th>opponentScore</th>\n",
       "      <th>score</th>\n",
       "      <th>spread</th>\n",
       "      <th>actual_spread</th>\n",
       "      <th>preds</th>\n",
       "    </tr>\n",
       "  </thead>\n",
       "  <tbody>\n",
       "    <tr>\n",
       "      <th>0</th>\n",
       "      <td>83</td>\n",
       "      <td>115</td>\n",
       "      <td>7.0</td>\n",
       "      <td>-32</td>\n",
       "      <td>5.482364</td>\n",
       "    </tr>\n",
       "    <tr>\n",
       "      <th>1</th>\n",
       "      <td>128</td>\n",
       "      <td>112</td>\n",
       "      <td>7.0</td>\n",
       "      <td>16</td>\n",
       "      <td>6.968905</td>\n",
       "    </tr>\n",
       "    <tr>\n",
       "      <th>2</th>\n",
       "      <td>102</td>\n",
       "      <td>96</td>\n",
       "      <td>7.5</td>\n",
       "      <td>6</td>\n",
       "      <td>7.659390</td>\n",
       "    </tr>\n",
       "    <tr>\n",
       "      <th>3</th>\n",
       "      <td>124</td>\n",
       "      <td>91</td>\n",
       "      <td>2.5</td>\n",
       "      <td>33</td>\n",
       "      <td>2.606027</td>\n",
       "    </tr>\n",
       "    <tr>\n",
       "      <th>4</th>\n",
       "      <td>134</td>\n",
       "      <td>135</td>\n",
       "      <td>2.0</td>\n",
       "      <td>-1</td>\n",
       "      <td>0.956377</td>\n",
       "    </tr>\n",
       "    <tr>\n",
       "      <th>...</th>\n",
       "      <td>...</td>\n",
       "      <td>...</td>\n",
       "      <td>...</td>\n",
       "      <td>...</td>\n",
       "      <td>...</td>\n",
       "    </tr>\n",
       "    <tr>\n",
       "      <th>1951</th>\n",
       "      <td>118</td>\n",
       "      <td>106</td>\n",
       "      <td>6.5</td>\n",
       "      <td>12</td>\n",
       "      <td>5.553931</td>\n",
       "    </tr>\n",
       "    <tr>\n",
       "      <th>1952</th>\n",
       "      <td>80</td>\n",
       "      <td>111</td>\n",
       "      <td>-17.0</td>\n",
       "      <td>-31</td>\n",
       "      <td>-16.604898</td>\n",
       "    </tr>\n",
       "    <tr>\n",
       "      <th>1953</th>\n",
       "      <td>120</td>\n",
       "      <td>130</td>\n",
       "      <td>-10.0</td>\n",
       "      <td>-10</td>\n",
       "      <td>-9.430541</td>\n",
       "    </tr>\n",
       "    <tr>\n",
       "      <th>1954</th>\n",
       "      <td>94</td>\n",
       "      <td>105</td>\n",
       "      <td>0.0</td>\n",
       "      <td>-11</td>\n",
       "      <td>0.006118</td>\n",
       "    </tr>\n",
       "    <tr>\n",
       "      <th>1955</th>\n",
       "      <td>111</td>\n",
       "      <td>80</td>\n",
       "      <td>17.0</td>\n",
       "      <td>31</td>\n",
       "      <td>16.564294</td>\n",
       "    </tr>\n",
       "  </tbody>\n",
       "</table>\n",
       "<p>1956 rows × 5 columns</p>\n",
       "</div>"
      ],
      "text/plain": [
       "      opponentScore  score  spread  actual_spread      preds\n",
       "0                83    115     7.0            -32   5.482364\n",
       "1               128    112     7.0             16   6.968905\n",
       "2               102     96     7.5              6   7.659390\n",
       "3               124     91     2.5             33   2.606027\n",
       "4               134    135     2.0             -1   0.956377\n",
       "...             ...    ...     ...            ...        ...\n",
       "1951            118    106     6.5             12   5.553931\n",
       "1952             80    111   -17.0            -31 -16.604898\n",
       "1953            120    130   -10.0            -10  -9.430541\n",
       "1954             94    105     0.0            -11   0.006118\n",
       "1955            111     80    17.0             31  16.564294\n",
       "\n",
       "[1956 rows x 5 columns]"
      ]
     },
     "execution_count": 12,
     "metadata": {},
     "output_type": "execute_result"
    }
   ],
   "source": [
    "temp = test[['opponentScore', 'score', 'spread', 'actual_spread']]\n",
    "temp['preds'] = lr_test_pred\n",
    "temp"
   ]
  },
  {
   "cell_type": "code",
   "execution_count": 13,
   "metadata": {
    "cell_id": "a31c7bc8792246c7beec292aa9b9b8c5",
    "deepnote_cell_type": "code",
    "deepnote_to_be_reexecuted": false,
    "execution_millis": 78,
    "execution_start": 1712890232192,
    "source_hash": null
   },
   "outputs": [
    {
     "data": {
      "text/plain": [
       "(-1420, 0.5112474437627812)"
      ]
     },
     "execution_count": 13,
     "metadata": {},
     "output_type": "execute_result"
    }
   ],
   "source": [
    "spread_earnings(list(lr_test_pred), list(y_test), vegas_spread)"
   ]
  },
  {
   "cell_type": "code",
   "execution_count": 14,
   "metadata": {
    "cell_id": "24e1e356d7fd479daa861ff7f3add424",
    "deepnote_cell_type": "code",
    "deepnote_to_be_reexecuted": false,
    "execution_millis": 122,
    "execution_start": 1712890236233,
    "source_hash": null
   },
   "outputs": [
    {
     "data": {
      "text/plain": [
       "(-9610, 0.49130879345603273)"
      ]
     },
     "execution_count": 14,
     "metadata": {},
     "output_type": "execute_result"
    }
   ],
   "source": [
    "spread_earnings(list(rf_test_pred), list(y_test), vegas_spread)"
   ]
  },
  {
   "cell_type": "code",
   "execution_count": 15,
   "metadata": {
    "cell_id": "e011f29c48a9456593afefdde8ca77e3",
    "deepnote_cell_type": "code",
    "deepnote_to_be_reexecuted": false,
    "execution_millis": 87,
    "execution_start": 1712890238657,
    "source_hash": null
   },
   "outputs": [
    {
     "data": {
      "text/plain": [
       "(-12760, 0.483640081799591)"
      ]
     },
     "execution_count": 15,
     "metadata": {},
     "output_type": "execute_result"
    }
   ],
   "source": [
    "spread_earnings(list(mlp_test_pred), list(y_test), vegas_spread)"
   ]
  },
  {
   "cell_type": "code",
   "execution_count": null,
   "metadata": {
    "cell_id": "ec232e1cec1942828fb29dfe6ba8b079",
    "deepnote_cell_type": "code"
   },
   "outputs": [],
   "source": []
  }
 ],
 "metadata": {
  "deepnote_execution_queue": [],
  "deepnote_notebook_id": "0aa067de0951471f92f1b4faaf4b9fae",
  "deepnote_persisted_session": {
   "createdAt": "2024-04-12T03:15:29.668Z"
  },
  "kernelspec": {
   "display_name": "Python 3 (ipykernel)",
   "language": "python",
   "name": "python3"
  },
  "language_info": {
   "codemirror_mode": {
    "name": "ipython",
    "version": 3
   },
   "file_extension": ".py",
   "mimetype": "text/x-python",
   "name": "python",
   "nbconvert_exporter": "python",
   "pygments_lexer": "ipython3",
   "version": "3.11.8"
  }
 },
 "nbformat": 4,
 "nbformat_minor": 4
}
